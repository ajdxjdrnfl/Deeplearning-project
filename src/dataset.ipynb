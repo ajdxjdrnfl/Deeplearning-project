{
 "cells": [
  {
   "cell_type": "code",
   "execution_count": null,
   "metadata": {},
   "outputs": [
    {
     "ename": "",
     "evalue": "",
     "output_type": "error",
     "traceback": [
      "\u001b[1;31m'Python 3.9.15 ('base')'(으)로 셀을 실행하려면 ipykernel 패키지가 필요합니다.\n",
      "\u001b[1;31m다음 명령어를 실행하여 Python 환경에 'ipykernel'을(를) 설치합니다. \n",
      "\u001b[1;31m 명령: 'conda install -n base ipykernel --update-deps --force-reinstall'"
     ]
    }
   ],
   "source": [
    "import torch\n",
    "import torch.nn as nn\n",
    "import numpy as np\n",
    "from PIL import Image\n",
    "import os\n",
    "import random"
   ]
  },
  {
   "cell_type": "code",
   "execution_count": 7,
   "metadata": {},
   "outputs": [],
   "source": [
    "class MyDataSet(torch.utils.data.Dataset):\n",
    "    def __init__(self, path, ratio, transform=None):\n",
    "        self.path = path\n",
    "        self.ratio = ratio\n",
    "\n",
    "        self.real_list = os.path.join(self.path, \"real\").endswith(\".jpg\")\n",
    "        self.syn_list = os.path.join(self.path, \"syn\").endswith(\".jpg\")\n",
    "       \n",
    "        self.syn_list = random.sample(self.syn_list, len(self.syn_list)/10)\n",
    "        self.class_list = [0]*len(self.real_list) + [1]*len(self.syn_list)\n",
    "        self.image_list = self.real_list + self.syn_list\n",
    "\n",
    "        self.transform = transform\n",
    "\n",
    "\n",
    "    def __len__(self):\n",
    "        return len(self.image_list)\n",
    "\n",
    "    def __getitem(self, index):\n",
    "        \n",
    "        label = self.class_list[index]\n",
    "        if label == 0:\n",
    "            set = \"real\"\n",
    "        elif label == 1:\n",
    "            set = \"syn\"\n",
    "\n",
    "        image = np.array(Image.open(os.path.join(self.path, set, self.image_list[index])))\n",
    "        if self.transform is not None:\n",
    "            image = self.transform(image)\n",
    "\n",
    "        return image, label"
   ]
  },
  {
   "cell_type": "code",
   "execution_count": null,
   "metadata": {},
   "outputs": [],
   "source": []
  }
 ],
 "metadata": {
  "kernelspec": {
   "display_name": "Python 3.9.15 ('base')",
   "language": "python",
   "name": "python3"
  },
  "language_info": {
   "codemirror_mode": {
    "name": "ipython",
    "version": 3
   },
   "file_extension": ".py",
   "mimetype": "text/x-python",
   "name": "python",
   "nbconvert_exporter": "python",
   "pygments_lexer": "ipython3",
   "version": "3.9.15"
  },
  "orig_nbformat": 4,
  "vscode": {
   "interpreter": {
    "hash": "e7cb1b9ae4d417fedf7f40a8eec98f7cfbd359e096bd857395a915f4609834ce"
   }
  }
 },
 "nbformat": 4,
 "nbformat_minor": 2
}
