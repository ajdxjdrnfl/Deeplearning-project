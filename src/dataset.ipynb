{
 "cells": [
  {
   "cell_type": "code",
   "execution_count": 8,
   "metadata": {},
   "outputs": [],
   "source": [
    "import torch\n",
    "import torch.nn as nn\n",
    "import numpy as np\n",
    "from PIL import Image\n",
    "import os"
   ]
  },
  {
   "cell_type": "code",
   "execution_count": 7,
   "metadata": {},
   "outputs": [],
   "source": [
    "class MyDataSet(torch.utils.data.Dataset):\n",
    "    def __init__(self, path, ratio, transform=None):\n",
    "        self.path = path\n",
    "        self.ratio = ratio\n",
    "\n",
    "        self.real_list = os.path.join(self.path, \"real\")\n",
    "        self.syn_list = os.path.join(self.path, \"syn\")\n",
    "        self.class_list = [0]*len(self.real_list) + [1]*len(self.syn_list)\n",
    "        self.image_list = self.real_list + self.syn_list\n",
    "\n",
    "        self.transform = transform\n",
    "\n",
    "\n",
    "    def __len__(self):\n",
    "        return len(self.image_list)\n",
    "\n",
    "    def __getitem(self, index):\n",
    "        \n",
    "        label = self.class_list[index]\n",
    "        if label == 0:\n",
    "            set = \"real\"\n",
    "        elif label == 1:\n",
    "            set = \"syn\"\n",
    "\n",
    "        image = np.array(Image.open(os.path.join(self.path, set, self.image_list[index])))\n",
    "        if self.transform is not None:\n",
    "            image = self.transform(image)\n",
    "\n",
    "        return image, label"
   ]
  },
  {
   "cell_type": "code",
   "execution_count": null,
   "metadata": {},
   "outputs": [],
   "source": []
  }
 ],
 "metadata": {
  "kernelspec": {
   "display_name": "Python 3.9.13 ('py35')",
   "language": "python",
   "name": "python3"
  },
  "language_info": {
   "codemirror_mode": {
    "name": "ipython",
    "version": 3
   },
   "file_extension": ".py",
   "mimetype": "text/x-python",
   "name": "python",
   "nbconvert_exporter": "python",
   "pygments_lexer": "ipython3",
   "version": "3.9.13"
  },
  "orig_nbformat": 4,
  "vscode": {
   "interpreter": {
    "hash": "d7730f7d96c770142b5caf2c4b52c5f4c998de90d739be880df2e229ed603ef6"
   }
  }
 },
 "nbformat": 4,
 "nbformat_minor": 2
}
